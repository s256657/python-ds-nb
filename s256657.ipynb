{
 "cells": [
  {
   "cell_type": "markdown",
   "id": "713af6de",
   "metadata": {},
   "source": [
    "# Craig Wilcox \n",
    "## Question 10 submission"
   ]
  },
  {
   "cell_type": "code",
   "execution_count": 1,
   "id": "1d504185",
   "metadata": {},
   "outputs": [
    {
     "name": "stdout",
     "output_type": "stream",
     "text": [
      "*      *\n",
      "**    **\n",
      "***  ***\n",
      "********\n"
     ]
    }
   ],
   "source": [
    "rows = 4\n",
    "\n",
    "for i in range(1, rows + 1):\n",
    "    # Left stars\n",
    "    left = '*' * i\n",
    "    # Spaces in the middle (2 * (rows - i))\n",
    "    spaces = ' ' * (2 * (rows - i))\n",
    "    # Right stars (same as left)\n",
    "    right = '*' * i\n",
    "    # Print the full line\n",
    "    print(left + spaces + right)"
   ]
  }
 ],
 "metadata": {
  "kernelspec": {
   "display_name": ".venv",
   "language": "python",
   "name": "python3"
  },
  "language_info": {
   "codemirror_mode": {
    "name": "ipython",
    "version": 3
   },
   "file_extension": ".py",
   "mimetype": "text/x-python",
   "name": "python",
   "nbconvert_exporter": "python",
   "pygments_lexer": "ipython3",
   "version": "3.13.1"
  }
 },
 "nbformat": 4,
 "nbformat_minor": 5
}
