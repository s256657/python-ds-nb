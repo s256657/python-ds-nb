{
 "cells": [
  {
   "cell_type": "markdown",
   "metadata": {},
   "source": [
    "# Web Mining and Applied NLP (44-620)\n",
    "\n",
    "## Python Notebooks, Basics, and Data Structures\n",
    "\n",
    "### Student Name: Craig Wilcox\n",
    "### [Link to Github] (https://github.com/s256657) \n",
    "\n",
    "Perform the tasks described in the Markdown cells below.  When you have completed the assignment make sure your code cells have all been run (and have output beneath them) and ensure you have committed and pushed ALL of your changes to your assignment repository.\n",
    "\n",
    "Every question that requires you to write code will have a code cell underneath it; you may either write your entire solution in that cell or write it in a python file (`.py`), then import and run the appropriate code to answer the question.\n",
    "\n",
    "Do not use external modules (`math`, etc) for this assignment unless you are explicitly instructed to, though you may use built in python functions (`min`, `max`, etc) as you wish."
   ]
  },
  {
   "cell_type": "markdown",
   "metadata": {},
   "source": [
    "1. Modify the Markdown cell above to put your name after \"Student Name:\"; you will be expected to do this in all assignments presented in this format for this class."
   ]
  },
  {
   "cell_type": "markdown",
   "metadata": {},
   "source": [
    "2. Write code that divides any two numbers, stores the result in a variable, and prints the result with an appropriate label."
   ]
  },
  {
   "cell_type": "code",
   "execution_count": 24,
   "metadata": {},
   "outputs": [
    {
     "name": "stdout",
     "output_type": "stream",
     "text": [
      "Result of division: 5.0\n"
     ]
    }
   ],
   "source": [
    "# 2\n",
    "A = 10\n",
    "B = 2\n",
    "\n",
    "X = A / B\n",
    "\n",
    "print(\"Result of division:\", X)"
   ]
  },
  {
   "cell_type": "markdown",
   "metadata": {},
   "source": [
    "3. Using loops (and potentially conditionals), write Python code that prints the factorial of each integer from 1 through 10 (which you can store in a variable if you want). The factorial of an integer is the product of all of the integers of 1 through the number. Print the result with an appropriate label."
   ]
  },
  {
   "cell_type": "code",
   "execution_count": 25,
   "metadata": {},
   "outputs": [
    {
     "name": "stdout",
     "output_type": "stream",
     "text": [
      "Factorial of 1 is: 1\n",
      "Factorial of 2 is: 2\n",
      "Factorial of 3 is: 6\n",
      "Factorial of 4 is: 24\n",
      "Factorial of 5 is: 120\n",
      "Factorial of 6 is: 720\n",
      "Factorial of 7 is: 5040\n",
      "Factorial of 8 is: 40320\n",
      "Factorial of 9 is: 362880\n",
      "Factorial of 10 is: 3628800\n"
     ]
    }
   ],
   "source": [
    "# 3\n",
    "for n in range(1, 11):\n",
    "    factorial = 1  \n",
    "    for i in range(1, n + 1):\n",
    "        factorial *= i  \n",
    "    print(f\"Factorial of {n} is: {factorial}\")"
   ]
  },
  {
   "cell_type": "markdown",
   "metadata": {},
   "source": [
    "4. Write a python function that takes a single parameter and calculates and returns the average (mean) of the values in the parameter (which you may assume is iterable).  Show that your function works by printing the result of calling the function on the list in the cell below."
   ]
  },
  {
   "cell_type": "code",
   "execution_count": 26,
   "metadata": {},
   "outputs": [
    {
     "name": "stdout",
     "output_type": "stream",
     "text": [
      "Average of testlist is: 0.0\n"
     ]
    }
   ],
   "source": [
    "# 4\n",
    "def calculate_average(values):\n",
    "    total = sum(values)\n",
    "    count = len(values)\n",
    "    return total / count\n",
    "\n",
    "testlist = [1,-1,2,-2,3,-3,4,-4]\n",
    "\n",
    "average = calculate_average(testlist)\n",
    "print(\"Average of testlist is:\", average)"
   ]
  },
  {
   "cell_type": "markdown",
   "metadata": {},
   "source": [
    "5. Using your mean function above, write a function that calculates the variance of the list of numbers (see https://en.wikipedia.org/wiki/Variance for more information on the formula). In short:\n",
    "* subtract the mean of the elements in the list from every element in the list; store these values in a new list\n",
    "* square every element in the new list and sum the elements together\n",
    "* divide the resulting number by N (where N is the length of the original list)\n",
    "\n",
    "Show the result of calling your function in the lists in the code cell. You must use one or more list comprehensions or map/filter in your code.\n"
   ]
  },
  {
   "cell_type": "code",
   "execution_count": 30,
   "metadata": {},
   "outputs": [
    {
     "name": "stdout",
     "output_type": "stream",
     "text": [
      "Variance of list1: 1.13973309\n",
      "Variance of list2: 0.9257232841\n"
     ]
    }
   ],
   "source": [
    "# 5\n",
    "# Function to calculate average (mean)\n",
    "def calculate_average(values):\n",
    "    total = sum(values)\n",
    "    count = len(values)\n",
    "    return total / count\n",
    "\n",
    "# Function to calculate variance\n",
    "def calculate_variance(values):\n",
    "    mean = calculate_average(values)\n",
    "    # Subtract mean and square differences using list comprehension\n",
    "    squared_diffs = [(x - mean) ** 2 for x in values]\n",
    "    # Variance: sum of squared differences divided by number of elements\n",
    "    return sum(squared_diffs) / len(values)\n",
    "\n",
    "list1 = [ 5.670e-1, -1.480e+0, -5.570e-1, -1.470e+0, 7.340e-1, 1.050e+0, 4.480e-1, 2.570e-1, -1.970e+0, -1.460e+0]\n",
    "list2 = [-1.780e+0, 2.640e-1, 1.160e+0, 9.080e-1, 1.780e+0, 1.080e+0, 1.050e+0, -4.630e-2, 1.520e+0, 5.350e-1]\n",
    "# the variances of both lists should be relatively close to 1 (off by less than .15)\n",
    "\n",
    "# Calculate and print variances\n",
    "variance1 = calculate_variance(list1)\n",
    "variance2 = calculate_variance(list2)\n",
    "\n",
    "print(\"Variance of list1:\", variance1)\n",
    "print(\"Variance of list2:\", variance2)"
   ]
  },
  {
   "cell_type": "markdown",
   "metadata": {},
   "source": [
    "6. Create a list with at least 15 elements in it. Use list slicing to print the following:\n",
    "* The first 5 elements of the list\n",
    "* The last 5 elements of the list\n",
    "* The list reversed (hint, show the entire list with a stride of -1)\n",
    "* Every second element in the list\n",
    "* Every third element in the list (stride of 3)"
   ]
  },
  {
   "cell_type": "code",
   "execution_count": 31,
   "metadata": {},
   "outputs": [
    {
     "name": "stdout",
     "output_type": "stream",
     "text": [
      "First 5 elements: [10, 20, 30, 40, 50]\n",
      "Last 5 elements: [110, 120, 130, 140, 150]\n",
      "Reversed list: [150, 140, 130, 120, 110, 100, 90, 80, 70, 60, 50, 40, 30, 20, 10]\n",
      "Every second element: [10, 30, 50, 70, 90, 110, 130, 150]\n",
      "Every third element: [10, 40, 70, 100, 130]\n"
     ]
    }
   ],
   "source": [
    "# 6\n",
    "\n",
    "my_list = [10, 20, 30, 40, 50, 60, 70, 80, 90, 100, 110, 120, 130, 140, 150]\n",
    "\n",
    "# First 5 elements\n",
    "print(\"First 5 elements:\", my_list[:5])\n",
    "\n",
    "# Last 5 elements\n",
    "print(\"Last 5 elements:\", my_list[-5:])\n",
    "\n",
    "# Reversed list\n",
    "print(\"Reversed list:\", my_list[::-1])\n",
    "\n",
    "# Every second element\n",
    "print(\"Every second element:\", my_list[::2])\n",
    "\n",
    "# Every third element\n",
    "print(\"Every third element:\", my_list[::3])"
   ]
  },
  {
   "cell_type": "markdown",
   "metadata": {},
   "source": [
    "7. Build a dictionary that contains the following information about this class (with appropriate names as keys):\n",
    "* The name\n",
    "* The course number\n",
    "* The semester/term in which you are taking this course\n",
    "* The number of credit hours this course counts for\n",
    "* A list of the course learning objectives\n",
    "\n",
    "The majority of this information can be found in the syllabus. Print the dictionary."
   ]
  },
  {
   "cell_type": "code",
   "execution_count": 33,
   "metadata": {},
   "outputs": [
    {
     "name": "stdout",
     "output_type": "stream",
     "text": [
      "Name:\n",
      "  Web Mining and Applied Natural Language Processing\n",
      "Course_number:\n",
      "  44-620\n",
      "Term:\n",
      "  Summer 2025 Online block 2\n",
      "Credit_hours:\n",
      "  3\n",
      "Learning_objectives:\n",
      "  1. Manage Python libraries and packages\n",
      "  2. Interact with Hosted Version Control Systems (e.g. Git and GitHub)\n",
      "  3. Programmatically obtain and transform data from web-based APIs and HTML pages into a usable form.\n",
      "  4. Describe the steps in a basic Natural Language Processing Pipeline\n",
      "  5. Use preexisting tools and software libraries to perform some Natural Language Processing, such as sentiment analysis.\n",
      "  6. Explain results and conclusions drawn from the visualized information.\n"
     ]
    }
   ],
   "source": [
    "# 7\n",
    "course_info = {\n",
    "    \"name\": \"Web Mining and Applied Natural Language Processing\",\n",
    "    \"course_number\": \"44-620\",\n",
    "    \"term\": \"Summer 2025 Online block 2\",\n",
    "    \"credit_hours\": 3,\n",
    "    \"learning_objectives\": [\n",
    "        \"Manage Python libraries and packages\",\n",
    "        \"Interact with Hosted Version Control Systems (e.g. Git and GitHub)\",\n",
    "        \"Programmatically obtain and transform data from web-based APIs and HTML pages into a usable form.\",\n",
    "        \"Describe the steps in a basic Natural Language Processing Pipeline\",\n",
    "        \"Use preexisting tools and software libraries to perform some Natural Language Processing, such as sentiment analysis.\",\n",
    "        \"Explain results and conclusions drawn from the visualized information.\"\n",
    "    ]\n",
    "}\n",
    "\n",
    "for key, value in course_info.items():\n",
    "    print(f\"{key.capitalize()}:\")\n",
    "    if isinstance(value, list):\n",
    "        for i, item in enumerate(value, 1):\n",
    "            print(f\"  {i}. {item}\")\n",
    "    else:\n",
    "        print(f\"  {value}\")"
   ]
  },
  {
   "cell_type": "markdown",
   "metadata": {},
   "source": [
    "8.  Given the dictionary defined in the code cell below, print the list of level 3 spells the character has."
   ]
  },
  {
   "cell_type": "code",
   "execution_count": null,
   "metadata": {},
   "outputs": [
    {
     "name": "stdout",
     "output_type": "stream",
     "text": [
      "Level 3 Spells: ['Mass Healing Word', 'Nondetection', 'Revivify', 'Feign Death', 'Speak with Dead']\n"
     ]
    }
   ],
   "source": [
    "# 8\n",
    "\n",
    "player_character = {'name': 'Kitab',\n",
    "                   'class': [('Cleric: Knowledge', 7)],\n",
    "                   'spells': {'cantrip': ['Guidance', 'Light', 'Thaumaturgy', 'Toll the Dead', 'Word of Radiance'],\n",
    "                             'level 1': ['Command', 'Detect Magic', 'Healing Word', 'Identify', 'Sleep'],\n",
    "                             'level 2': ['Augury', 'Calm Emotions', 'Command', 'Invisibility', 'Lesser Restoration'],\n",
    "                             'level 3': ['Mass Healing Word', 'Nondetection', 'Revivify', 'Feign Death', 'Speak with Dead'],\n",
    "                             'level 4': ['Banishment', 'Confusion']}\n",
    "                   }\n",
    "\n",
    "level_3_spells = player_character['spells']['level 3']\n",
    "print(\"Level 3 Spells:\", level_3_spells)"
   ]
  },
  {
   "cell_type": "markdown",
   "metadata": {},
   "source": [
    "9. Write code to determine the number of unique elements in the list below.  You MUST use a set in finding your solution.  Print the number of unique values in the list with an appropriate label."
   ]
  },
  {
   "cell_type": "code",
   "execution_count": 35,
   "metadata": {},
   "outputs": [
    {
     "name": "stdout",
     "output_type": "stream",
     "text": [
      "Number of unique values in the list: 12\n"
     ]
    }
   ],
   "source": [
    "# 9\n",
    "\n",
    "values = [10, 11, 10, 8, 1, 12, 0, 1, 6, 5, 5, 13, 6, 15, 0, 0, 1, 1, 9, 7]\n",
    "\n",
    "unique_values = set(values)\n",
    "\n",
    "print(\"Number of unique values in the list:\", len(unique_values))"
   ]
  },
  {
   "cell_type": "markdown",
   "metadata": {},
   "source": [
    "10. Create a new Jupyter Notebook (the name of the notebook should be your S number). Add a Markdown cell that contains your name. Add a Code cell and write Python that uses loops to draw the following pattern:\n",
    "\n",
    "```\n",
    "*      *\n",
    "**    **\n",
    "***  ***\n",
    "********\n",
    "```\n",
    "Make sure to add and submit both the new notebook and the changes to this notebook for this assignment."
   ]
  }
 ],
 "metadata": {
  "kernelspec": {
   "display_name": ".venv",
   "language": "python",
   "name": "python3"
  },
  "language_info": {
   "codemirror_mode": {
    "name": "ipython",
    "version": 3
   },
   "file_extension": ".py",
   "mimetype": "text/x-python",
   "name": "python",
   "nbconvert_exporter": "python",
   "pygments_lexer": "ipython3",
   "version": "3.13.1"
  }
 },
 "nbformat": 4,
 "nbformat_minor": 4
}
